{
 "cells": [
  {
   "cell_type": "code",
   "execution_count": 1,
   "id": "3b8816a6",
   "metadata": {},
   "outputs": [],
   "source": [
    "import torch"
   ]
  },
  {
   "cell_type": "code",
   "execution_count": 17,
   "id": "ff7aa42b",
   "metadata": {},
   "outputs": [
    {
     "data": {
      "text/plain": [
       "tensor([[1.0000, 2.0000, 3.0000, 4.0000, 0.1000, 0.0000],\n",
       "        [3.0000, 4.0000, 5.0000, 6.0000, 0.3000, 1.0000]])"
      ]
     },
     "execution_count": 17,
     "metadata": {},
     "output_type": "execute_result"
    }
   ],
   "source": [
    "a = torch.tensor([[1,2,3,4, 0.1, 0],\n",
    "                 [3,4,5,6, 0.3, 1]])\n",
    "a"
   ]
  },
  {
   "cell_type": "code",
   "execution_count": 18,
   "id": "6a83ceff",
   "metadata": {},
   "outputs": [
    {
     "name": "stdout",
     "output_type": "stream",
     "text": [
      "ind =  tensor(0.)\n",
      "tensor([ True, False])\n",
      "ind =  tensor(1.)\n",
      "tensor([False,  True])\n"
     ]
    }
   ],
   "source": [
    "s = '320x416'\n",
    "for c in a[:,-1].unique():\n",
    "    print('ind = ', c)\n",
    "    n = (a[:, -1] == c)#.sum()  # detections per class\n",
    "     #s += '%g %ss, ' % (n, names[int(c)])  # add to string\n",
    "    print(n)"
   ]
  },
  {
   "cell_type": "code",
   "execution_count": 19,
   "id": "e7e890a7",
   "metadata": {},
   "outputs": [
    {
     "data": {
      "text/plain": [
       "tensor([0., 1.])"
      ]
     },
     "execution_count": 19,
     "metadata": {},
     "output_type": "execute_result"
    }
   ],
   "source": [
    "a[:,-1].unique()"
   ]
  },
  {
   "cell_type": "code",
   "execution_count": 20,
   "id": "c9402e6d",
   "metadata": {},
   "outputs": [
    {
     "data": {
      "text/plain": [
       "tensor([[1.0000, 2.0000, 3.0000, 4.0000, 0.1000, 0.0000],\n",
       "        [3.0000, 4.0000, 5.0000, 6.0000, 0.3000, 1.0000]])"
      ]
     },
     "execution_count": 20,
     "metadata": {},
     "output_type": "execute_result"
    }
   ],
   "source": [
    "a"
   ]
  },
  {
   "cell_type": "code",
   "execution_count": 21,
   "id": "703171d5",
   "metadata": {},
   "outputs": [
    {
     "name": "stdout",
     "output_type": "stream",
     "text": [
      "tensor(3.) tensor(4.) tensor(5.) tensor(6.)\n",
      "---\n",
      "tensor(0.3000)\n",
      "---\n",
      "tensor(1.)\n",
      "---\n",
      "tensor(1.) tensor(2.) tensor(3.) tensor(4.)\n",
      "---\n",
      "tensor(0.1000)\n",
      "---\n",
      "tensor(0.)\n",
      "---\n"
     ]
    }
   ],
   "source": [
    "for *xyxy, conf, cls in reversed(a):\n",
    "    print(*xyxy)\n",
    "    print('---')\n",
    "    print(conf)\n",
    "    print('---')\n",
    "    print(cls)\n",
    "    print('---')"
   ]
  },
  {
   "cell_type": "code",
   "execution_count": 39,
   "id": "20846543",
   "metadata": {},
   "outputs": [
    {
     "name": "stdout",
     "output_type": "stream",
     "text": [
      "tensor(1) tensor(2) tensor(3) tensor(4) tensor(5) tensor(6) tensor(6)\n",
      "tensor(3) tensor(5) tensor(6) tensor(7) tensor(8) tensor(9) tensor(8)\n"
     ]
    }
   ],
   "source": [
    "l = torch.tensor([[1,2,3,4,5,6,6,7,8,9],\n",
    "    [3,5,6,7,8,9,8,6,4,2]])\n",
    "for *x, cof, cls, abcs in l:\n",
    "    print(*x)"
   ]
  },
  {
   "cell_type": "code",
   "execution_count": null,
   "id": "55cffd0c",
   "metadata": {},
   "outputs": [],
   "source": []
  }
 ],
 "metadata": {
  "kernelspec": {
   "display_name": "Python 3 (ipykernel)",
   "language": "python",
   "name": "python3"
  },
  "language_info": {
   "codemirror_mode": {
    "name": "ipython",
    "version": 3
   },
   "file_extension": ".py",
   "mimetype": "text/x-python",
   "name": "python",
   "nbconvert_exporter": "python",
   "pygments_lexer": "ipython3",
   "version": "3.9.7"
  }
 },
 "nbformat": 4,
 "nbformat_minor": 5
}
